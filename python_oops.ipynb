{
 "cells": [
  {
   "cell_type": "code",
   "execution_count": 3,
   "id": "b2a6b558",
   "metadata": {},
   "outputs": [],
   "source": [
    "# frist function addition\n",
    "\n",
    "def addition(a,b):\n",
    "      print(a+b)"
   ]
  },
  {
   "cell_type": "code",
   "execution_count": 4,
   "id": "a2ba5606",
   "metadata": {},
   "outputs": [],
   "source": [
    "# second function substrication\n",
    "\n",
    "def substrication(a,b):\n",
    "    print(a-b)"
   ]
  },
  {
   "cell_type": "code",
   "execution_count": 5,
   "id": "05e8fedb",
   "metadata": {},
   "outputs": [],
   "source": [
    "# Third function multiplication\n",
    "\n",
    "def multiplication(a,b):\n",
    "    print(a*b)\n",
    "    "
   ]
  },
  {
   "cell_type": "code",
   "execution_count": 6,
   "id": "870cd313",
   "metadata": {},
   "outputs": [],
   "source": [
    "# fourth function division\n",
    "\n",
    "def division(a,b):\n",
    "    print(a/b)"
   ]
  },
  {
   "cell_type": "code",
   "execution_count": 7,
   "id": "9c32da65",
   "metadata": {},
   "outputs": [],
   "source": [
    "# above four funcion creating and calling the function\n"
   ]
  },
  {
   "cell_type": "code",
   "execution_count": 9,
   "id": "8e95ade1",
   "metadata": {},
   "outputs": [
    {
     "name": "stdout",
     "output_type": "stream",
     "text": [
      "300\n"
     ]
    }
   ],
   "source": [
    "addition(100,200)"
   ]
  },
  {
   "cell_type": "code",
   "execution_count": 10,
   "id": "fca5fa42",
   "metadata": {},
   "outputs": [
    {
     "name": "stdout",
     "output_type": "stream",
     "text": [
      "180\n"
     ]
    }
   ],
   "source": [
    "substrication(200,20)"
   ]
  },
  {
   "cell_type": "code",
   "execution_count": 11,
   "id": "9943110c",
   "metadata": {},
   "outputs": [
    {
     "name": "stdout",
     "output_type": "stream",
     "text": [
      "50\n"
     ]
    }
   ],
   "source": [
    "multiplication(10,5)"
   ]
  },
  {
   "cell_type": "code",
   "execution_count": 12,
   "id": "45c1f82a",
   "metadata": {},
   "outputs": [
    {
     "name": "stdout",
     "output_type": "stream",
     "text": [
      "100.0\n"
     ]
    }
   ],
   "source": [
    "division(1000,10)"
   ]
  },
  {
   "cell_type": "code",
   "execution_count": 13,
   "id": "939b4cd4",
   "metadata": {},
   "outputs": [
    {
     "name": "stdout",
     "output_type": "stream",
     "text": [
      "100\n"
     ]
    }
   ],
   "source": [
    "# creating the class\n",
    "\n",
    "class MECH:\n",
    "    a=100\n",
    "\n",
    "satish=MECH()\n",
    "print(satish.a)"
   ]
  },
  {
   "cell_type": "code",
   "execution_count": 14,
   "id": "e76f56f8",
   "metadata": {},
   "outputs": [
    {
     "name": "stdout",
     "output_type": "stream",
     "text": [
      "satish\n"
     ]
    }
   ],
   "source": [
    "# create class and object\n",
    "\n",
    "class CSE:\n",
    "    name='satish'\n",
    "    \n",
    "x=CSE()\n",
    "print(x.name)"
   ]
  },
  {
   "cell_type": "code",
   "execution_count": 17,
   "id": "b6ceec8e",
   "metadata": {},
   "outputs": [
    {
     "name": "stdout",
     "output_type": "stream",
     "text": [
      "300\n"
     ]
    }
   ],
   "source": [
    "class addition:\n",
    "    a=100\n",
    "    b=200\n",
    "    \n",
    "    \n",
    "c=addition()\n",
    "print(c.a+c.b)\n",
    "    "
   ]
  },
  {
   "cell_type": "code",
   "execution_count": 18,
   "id": "90c6d806",
   "metadata": {},
   "outputs": [
    {
     "name": "stdout",
     "output_type": "stream",
     "text": [
      "100\n"
     ]
    }
   ],
   "source": [
    "class multiplication:\n",
    "    x=20\n",
    "    y=5\n",
    "    \n",
    "z=multiplication()\n",
    "print(z.x*z.y)"
   ]
  },
  {
   "cell_type": "code",
   "execution_count": 19,
   "id": "4824e932",
   "metadata": {},
   "outputs": [
    {
     "name": "stdout",
     "output_type": "stream",
     "text": [
      "100\n"
     ]
    }
   ],
   "source": [
    "# no object\n",
    "class multiplication:\n",
    "    x=20\n",
    "    y=5\n",
    "    \n",
    "print(multiplication.x*multiplication.y)  "
   ]
  },
  {
   "cell_type": "code",
   "execution_count": 20,
   "id": "99cc12c5",
   "metadata": {},
   "outputs": [
    {
     "name": "stdout",
     "output_type": "stream",
     "text": [
      "300\n"
     ]
    }
   ],
   "source": [
    "class AVENGERS:\n",
    "  pass\n",
    "\n",
    "AVENGERS.a = 10\n",
    "AVENGERS.b = 30\n",
    "\n",
    "print(AVENGERS.a * AVENGERS.b)"
   ]
  },
  {
   "cell_type": "code",
   "execution_count": 22,
   "id": "b8762500",
   "metadata": {},
   "outputs": [
    {
     "name": "stdout",
     "output_type": "stream",
     "text": [
      "i am Going pune\n"
     ]
    }
   ],
   "source": [
    "# constructor -> non parameter constructor\n",
    "\n",
    "class shiva:\n",
    "    def __init__(self):\n",
    "        print(\"i am Going pune\")\n",
    "        \n",
    "obj=shiva()        "
   ]
  },
  {
   "cell_type": "code",
   "execution_count": 23,
   "id": "463eb4e0",
   "metadata": {},
   "outputs": [
    {
     "name": "stdout",
     "output_type": "stream",
     "text": [
      "i am learing python\n"
     ]
    }
   ],
   "source": [
    "class satish:\n",
    "    def __init__(self):\n",
    "        print('i am learing python')\n",
    "course=satish()        "
   ]
  },
  {
   "cell_type": "code",
   "execution_count": 25,
   "id": "ab8e1785",
   "metadata": {},
   "outputs": [
    {
     "name": "stdout",
     "output_type": "stream",
     "text": [
      "30\n"
     ]
    }
   ],
   "source": [
    "# parameter\n",
    "class addition:\n",
    "    def __init__(self ,a,b):\n",
    "        print(a+b)\n",
    "total=addition(10,20)        "
   ]
  },
  {
   "cell_type": "code",
   "execution_count": 26,
   "id": "6e963d4b",
   "metadata": {},
   "outputs": [
    {
     "name": "stdout",
     "output_type": "stream",
     "text": [
      "75\n"
     ]
    }
   ],
   "source": [
    "class multiplication:\n",
    "    def __init__(self,x,y):\n",
    "        print(x*y)\n",
    "\n",
    "tot=multiplication(15,5)        "
   ]
  },
  {
   "cell_type": "code",
   "execution_count": 27,
   "id": "fd5d17b8",
   "metadata": {},
   "outputs": [
    {
     "name": "stdout",
     "output_type": "stream",
     "text": [
      "15\n"
     ]
    }
   ],
   "source": [
    "class satish:\n",
    "    def __init__(self,a,b):\n",
    "        self.a=a\n",
    "        self.b=b\n",
    "        print(self.a+self.b)\n",
    "        \n",
    "object=satish(10,5)        \n",
    "        "
   ]
  },
  {
   "cell_type": "code",
   "execution_count": 28,
   "id": "00110883",
   "metadata": {},
   "outputs": [
    {
     "name": "stdout",
     "output_type": "stream",
     "text": [
      "500\n"
     ]
    }
   ],
   "source": [
    "class sai:\n",
    "    def __init__(self,x,y):\n",
    "        self.x=x\n",
    "        self.y=y\n",
    "        print(self.x*self.y)\n",
    "        \n",
    "tot1=sai(100,5)        "
   ]
  },
  {
   "cell_type": "code",
   "execution_count": 29,
   "id": "47833495",
   "metadata": {},
   "outputs": [
    {
     "name": "stdout",
     "output_type": "stream",
     "text": [
      "15\n",
      "20\n",
      "50\n",
      "100.0\n"
     ]
    }
   ],
   "source": [
    "class checking:\n",
    "    def addition(self,x,y):\n",
    "        print(x+y)\n",
    "    def substrication(self,x,y):\n",
    "        print(x-y)\n",
    "    def multiplication(self,x,y):\n",
    "        print(x*y)\n",
    "        \n",
    "    def division(self,x,y):\n",
    "        print(x/y)\n",
    "satish=checking()\n",
    "satish=addition(10,5)\n",
    "satish=substrication(25,5)\n",
    "satish=multiplication(10,5)\n",
    "satish=division(1000,10)"
   ]
  },
  {
   "cell_type": "code",
   "execution_count": 30,
   "id": "8b0d2571",
   "metadata": {},
   "outputs": [
    {
     "name": "stdout",
     "output_type": "stream",
     "text": [
      "30 -10 12 0.5\n"
     ]
    }
   ],
   "source": [
    "class checking:\n",
    "  def __init__(self,x,y,a,b,c,d):\n",
    "    self.x = x\n",
    "    self.y = y\n",
    "    self.a = a\n",
    "    self.b = b\n",
    "    self.c = c\n",
    "    self.d = d\n",
    "\n",
    "  def addition(self):\n",
    "    return self.x + self.y\n",
    "\n",
    "  def subtraction(self):\n",
    "    return self.x - self.y\n",
    "\n",
    "  def multiplication(self):\n",
    "    return self.c * self.d\n",
    "\n",
    "  def division(self):\n",
    "    return self.x / self.y\n",
    "\n",
    "  def common(self):\n",
    "    print(self.addition()  , self.subtraction() , self.multiplication() , self.division())\n",
    "\n",
    "\n",
    "kiran = checking(10,20,1,2,3,4)\n",
    "kiran.common()"
   ]
  },
  {
   "cell_type": "code",
   "execution_count": null,
   "id": "981a6b2d",
   "metadata": {},
   "outputs": [],
   "source": [
    "# create the below four Functions"
   ]
  },
  {
   "cell_type": "code",
   "execution_count": 1,
   "id": "c67b148e",
   "metadata": {},
   "outputs": [],
   "source": [
    "# addition\n",
    "def add(a,b):\n",
    "    print(a+b)    "
   ]
  },
  {
   "cell_type": "code",
   "execution_count": 2,
   "id": "610c8809",
   "metadata": {},
   "outputs": [],
   "source": [
    "# substrication\n",
    "\n",
    "def sub(a,b):\n",
    "    print(a-b)\n",
    "    "
   ]
  },
  {
   "cell_type": "code",
   "execution_count": 3,
   "id": "fabef1b5",
   "metadata": {},
   "outputs": [],
   "source": [
    "# multiplication\n",
    "\n",
    "def mult(a,b):\n",
    "    print(a-b)"
   ]
  },
  {
   "cell_type": "code",
   "execution_count": 10,
   "id": "a2613690",
   "metadata": {},
   "outputs": [],
   "source": [
    "# division\n",
    "\n",
    "def division(a,b):\n",
    "    print(a/b)"
   ]
  },
  {
   "cell_type": "code",
   "execution_count": 5,
   "id": "b6ab9668",
   "metadata": {},
   "outputs": [],
   "source": [
    "# calling the four Functions in below\n"
   ]
  },
  {
   "cell_type": "code",
   "execution_count": 6,
   "id": "4a7396b3",
   "metadata": {},
   "outputs": [
    {
     "name": "stdout",
     "output_type": "stream",
     "text": [
      "600\n"
     ]
    }
   ],
   "source": [
    "add(250,350)"
   ]
  },
  {
   "cell_type": "code",
   "execution_count": 7,
   "id": "9e328ee6",
   "metadata": {},
   "outputs": [
    {
     "name": "stdout",
     "output_type": "stream",
     "text": [
      "180\n"
     ]
    }
   ],
   "source": [
    "sub(300,120)"
   ]
  },
  {
   "cell_type": "code",
   "execution_count": 8,
   "id": "b266d61c",
   "metadata": {},
   "outputs": [
    {
     "name": "stdout",
     "output_type": "stream",
     "text": [
      "5\n"
     ]
    }
   ],
   "source": [
    "mult(10,5)"
   ]
  },
  {
   "cell_type": "code",
   "execution_count": 11,
   "id": "aef28e4c",
   "metadata": {},
   "outputs": [
    {
     "name": "stdout",
     "output_type": "stream",
     "text": [
      "100.0\n"
     ]
    }
   ],
   "source": [
    "division(1000,10)"
   ]
  },
  {
   "cell_type": "code",
   "execution_count": 12,
   "id": "3d7e752a",
   "metadata": {},
   "outputs": [
    {
     "name": "stdout",
     "output_type": "stream",
     "text": [
      "satish\n"
     ]
    }
   ],
   "source": [
    "#create the class\n",
    "\n",
    "class MECH:\n",
    "    x='satish'\n",
    "    \n",
    "student=MECH()\n",
    "print(student.x)"
   ]
  },
  {
   "cell_type": "code",
   "execution_count": 15,
   "id": "d7c8e94d",
   "metadata": {},
   "outputs": [
    {
     "name": "stdout",
     "output_type": "stream",
     "text": [
      "kirankrishna\n"
     ]
    }
   ],
   "source": [
    "# create class and object\n",
    "class NAME:\n",
    "    student1='kiran'\n",
    "    student2='krishna'\n",
    "students=NAME()\n",
    "print(students.student1+students.student2)"
   ]
  },
  {
   "cell_type": "code",
   "execution_count": 17,
   "id": "fb880992",
   "metadata": {},
   "outputs": [
    {
     "name": "stdout",
     "output_type": "stream",
     "text": [
      "pythonpowerbi\n"
     ]
    }
   ],
   "source": [
    "# no object\n",
    "class COURSE:\n",
    "    x='python'\n",
    "    y='powerbi'\n",
    "\n",
    "print(COURSE.x+COURSE.y)"
   ]
  },
  {
   "cell_type": "code",
   "execution_count": 20,
   "id": "983d51ac",
   "metadata": {},
   "outputs": [
    {
     "name": "stdout",
     "output_type": "stream",
     "text": [
      "150\n"
     ]
    }
   ],
   "source": [
    "# no class\n",
    "\n",
    "class INSTITUTE:\n",
    "    pass\n",
    "INSTITUTE.A=10\n",
    "INSTITUTE.B=15\n",
    "print(INSTITUTE.A*INSTITUTE.B)"
   ]
  },
  {
   "cell_type": "code",
   "execution_count": 28,
   "id": "7011731a",
   "metadata": {},
   "outputs": [
    {
     "name": "stdout",
     "output_type": "stream",
     "text": [
      "i am going to pune\n",
      "i am learing python\n"
     ]
    }
   ],
   "source": [
    "# constructor:- NON PARAMETERS\n",
    "\n",
    "class SATISH:\n",
    "    def __init__(self):\n",
    "        print('i am going to pune')\n",
    "        print('i am learing python')\n",
    "    \n",
    "    \n",
    "obj=SATISH()    "
   ]
  },
  {
   "cell_type": "code",
   "execution_count": 31,
   "id": "d911574b",
   "metadata": {},
   "outputs": [
    {
     "name": "stdout",
     "output_type": "stream",
     "text": [
      "600\n"
     ]
    }
   ],
   "source": [
    "# parameter\n",
    "\n",
    "class add:\n",
    "    def __init__(self,x,y):\n",
    "        print(x+y)\n",
    "        \n",
    "total=add(100,500)        "
   ]
  },
  {
   "cell_type": "code",
   "execution_count": 35,
   "id": "a4109683",
   "metadata": {},
   "outputs": [
    {
     "name": "stdout",
     "output_type": "stream",
     "text": [
      "50\n"
     ]
    }
   ],
   "source": [
    "class multiplication:\n",
    "    def __init__(self,a,b):\n",
    "        print(a*b)\n",
    "        \n",
    "mul=multiplication(10,5)       "
   ]
  },
  {
   "cell_type": "code",
   "execution_count": 37,
   "id": "1ee01aa2",
   "metadata": {},
   "outputs": [
    {
     "name": "stdout",
     "output_type": "stream",
     "text": [
      "60\n"
     ]
    }
   ],
   "source": [
    "class name:\n",
    "    def __init__(self,x,y):\n",
    "        self.x=x\n",
    "        self.y=y\n",
    "        print(self.x+self.y)\n",
    "        \n",
    "int=name(20,40)        "
   ]
  },
  {
   "cell_type": "code",
   "execution_count": 38,
   "id": "fdebf66b",
   "metadata": {},
   "outputs": [
    {
     "name": "stdout",
     "output_type": "stream",
     "text": [
      "300\n",
      "250\n",
      "50\n",
      "1000.0\n"
     ]
    }
   ],
   "source": [
    "class check:\n",
    "    def addition(self,x,y):\n",
    "        print(x+y)\n",
    "    def substrication(self,x,y):\n",
    "        print(x-y)\n",
    "    def multiplication(self,x,y):\n",
    "        print(x*y)\n",
    "    def division(self,x,y):\n",
    "        print(x/y)\n",
    "        \n",
    "        \n",
    "checking=check()\n",
    "checking.addition(100,200)\n",
    "checking.substrication(400,150)\n",
    "checking.multiplication(10,5)\n",
    "checking.division(10000,10)"
   ]
  },
  {
   "cell_type": "code",
   "execution_count": 39,
   "id": "b0a84538",
   "metadata": {},
   "outputs": [
    {
     "name": "stdout",
     "output_type": "stream",
     "text": [
      "145 55 5963 0.7528089887640449\n"
     ]
    }
   ],
   "source": [
    "class checks:\n",
    "    def __init__(self,a,b,c,d,e,f):\n",
    "        self.a=a\n",
    "        self.b=b\n",
    "        self.c=c\n",
    "        self.d=d\n",
    "        self.e=e\n",
    "        self.f=f\n",
    "        \n",
    "    def addition(self):\n",
    "        return self.a+self.b\n",
    "    def substrication(self):\n",
    "        return self.a-self.b\n",
    "    def multiplication(self):\n",
    "        return self.c*self.d\n",
    "    def division(self):\n",
    "         return self.c/self.d\n",
    "        \n",
    "        \n",
    "    def common(self):\n",
    "        print(self.addition(),self.substrication(),self.multiplication(),self.division())\n",
    "        \n",
    "        \n",
    "kiran=checks(100,45,67,89,25,35)\n",
    "kiran.common()\n",
    "        \n",
    "        \n",
    "        "
   ]
  },
  {
   "cell_type": "code",
   "execution_count": 40,
   "id": "48c24e21",
   "metadata": {},
   "outputs": [
    {
     "name": "stdout",
     "output_type": "stream",
     "text": [
      "i am going to hyderabad\n"
     ]
    }
   ],
   "source": [
    "# single Inheritance\n",
    "\n",
    "class parent:\n",
    "    def mumbai(self):\n",
    "        print('i am going to hyderabad')\n",
    "        \n",
    "class child:\n",
    "    def india(self):\n",
    "        print('i am going to pune')\n",
    "        \n",
    "        \n",
    "obj=parent() # create the object\n",
    "obj.mumbai() # child class function"
   ]
  },
  {
   "cell_type": "code",
   "execution_count": 41,
   "id": "3823c2f9",
   "metadata": {},
   "outputs": [
    {
     "name": "stdout",
     "output_type": "stream",
     "text": [
      "i am going to pune\n"
     ]
    }
   ],
   "source": [
    "\n",
    "class parent:\n",
    "    def mumbai(self):\n",
    "        print('i am going to hyderabad')\n",
    "        \n",
    "class child:\n",
    "    def india(self):\n",
    "        print('i am going to pune')\n",
    "        \n",
    "        \n",
    "obj=child()\n",
    "obj.india()"
   ]
  },
  {
   "cell_type": "code",
   "execution_count": 45,
   "id": "a841c66a",
   "metadata": {},
   "outputs": [
    {
     "name": "stdout",
     "output_type": "stream",
     "text": [
      "i am going to pune\n",
      "i am going to hyderabad\n"
     ]
    }
   ],
   "source": [
    "class parent:\n",
    "    def mumbai(self):\n",
    "        print('i am going to hyderabad')\n",
    "        \n",
    "class child(parent):\n",
    "    def india(self):\n",
    "        print('i am going to pune')\n",
    "        \n",
    "        \n",
    "obj=child() # create the object\n",
    "obj.india() # child the class\n",
    "\n",
    "obj.mumbai() # parent the class"
   ]
  },
  {
   "cell_type": "code",
   "execution_count": 47,
   "id": "67e660a1",
   "metadata": {},
   "outputs": [
    {
     "name": "stdout",
     "output_type": "stream",
     "text": [
      "i am in pune\n",
      "i am in hyderabad\n"
     ]
    }
   ],
   "source": [
    "class father:\n",
    "    def living(self):\n",
    "        print('i am in hyderabad')\n",
    "        \n",
    "class mother(father):\n",
    "    def home(self):\n",
    "        print('i am in pune')\n",
    "        \n",
    "        \n",
    "        \n",
    "        \n",
    "house=mother()\n",
    "house.home()\n",
    "house.living()\n",
    "        "
   ]
  },
  {
   "cell_type": "code",
   "execution_count": 48,
   "id": "4716285d",
   "metadata": {},
   "outputs": [
    {
     "name": "stdout",
     "output_type": "stream",
     "text": [
      "i am learing data Analysis\n",
      "i am learing python\n"
     ]
    }
   ],
   "source": [
    "# multilevel inheritance:\n",
    "\n",
    "class student:\n",
    "    def course(self):\n",
    "        print('i am learing python')\n",
    "        \n",
    "class student1(student):\n",
    "    def course1(self):\n",
    "        print('i am learing data Analysis')\n",
    "        \n",
    "class student2(student1):\n",
    "    def course2(self):\n",
    "        print('i am learing power bi')\n",
    "        \n",
    "        \n",
    "learing=student1()\n",
    "learing.course1()\n",
    "learing.course()"
   ]
  },
  {
   "cell_type": "code",
   "execution_count": 51,
   "id": "a55afdca",
   "metadata": {},
   "outputs": [
    {
     "name": "stdout",
     "output_type": "stream",
     "text": [
      "i am learing data Analysis\n",
      "i am learing python\n",
      "i am learing power bi\n"
     ]
    }
   ],
   "source": [
    "\n",
    "class student:\n",
    "    def course(self):\n",
    "        print('i am learing python')\n",
    "        \n",
    "class student1(student):\n",
    "    def course1(self):\n",
    "        print('i am learing data Analysis')\n",
    "        \n",
    "class student2(student1):\n",
    "    def course2(self):\n",
    "        print('i am learing power bi')\n",
    "        \n",
    "        \n",
    "learing=student2() # create the object\n",
    "learing.course1() # student1 the class\n",
    "learing.course() # student the class\n",
    "learing.course2() # student2 the class"
   ]
  },
  {
   "cell_type": "code",
   "execution_count": 55,
   "id": "c801c169",
   "metadata": {},
   "outputs": [
    {
     "name": "stdout",
     "output_type": "stream",
     "text": [
      "i am working capgemini company\n"
     ]
    }
   ],
   "source": [
    "# multiple inheritance\n",
    "\n",
    "class father:\n",
    "    def uk(self):\n",
    "        print('i am working tcs company')\n",
    "        \n",
    "class mother:\n",
    "    def us(self):\n",
    "        print('i am working hcl company')\n",
    " \n",
    "class child(father,mother):\n",
    "    def india(self):\n",
    "        print('i am working capgemini company')\n",
    "      \n",
    "    \n",
    " \n",
    "job=child()\n",
    "job.india()"
   ]
  },
  {
   "cell_type": "code",
   "execution_count": 56,
   "id": "04f75f6e",
   "metadata": {},
   "outputs": [
    {
     "name": "stdout",
     "output_type": "stream",
     "text": [
      "i am working capgemini company\n",
      "i am working hcl company\n",
      "i am working tcs company\n"
     ]
    }
   ],
   "source": [
    "\n",
    "class father:\n",
    "    def uk(self):\n",
    "        print('i am working tcs company')\n",
    "        \n",
    "class mother:\n",
    "    def us(self):\n",
    "        print('i am working hcl company')\n",
    " \n",
    "class child(father,mother):\n",
    "    def india(self):\n",
    "        print('i am working capgemini company')\n",
    "      \n",
    "    \n",
    " \n",
    "job=child()\n",
    "job.india()\n",
    "job.us()\n",
    "job.uk()"
   ]
  },
  {
   "cell_type": "code",
   "execution_count": 57,
   "id": "47da2b53",
   "metadata": {},
   "outputs": [
    {
     "name": "stdout",
     "output_type": "stream",
     "text": [
      "Bangalore is best city\n",
      "I used to stay in chennai\n"
     ]
    }
   ],
   "source": [
    "# Hierarical Inheritance\n",
    "\n",
    "\n",
    "class parent:\n",
    "  def tamilnadu(self):\n",
    "    print('I used to stay in chennai')\n",
    "\n",
    "class son1(parent):\n",
    "  def mumbai(self):\n",
    "    print('I am the Parent and I live in mumbai')\n",
    "\n",
    "class son2(parent):\n",
    "  def pakistan(self):\n",
    "    print('I want to see Pakistan')\n",
    "\n",
    "class son3(parent):\n",
    "  def karnataka(self):\n",
    "    print('Bangalore is best city')\n",
    "\n",
    "\n",
    "obj = son3()\n",
    "obj.karnataka()\n",
    "obj.tamilnadu()"
   ]
  },
  {
   "cell_type": "code",
   "execution_count": 58,
   "id": "6804a03e",
   "metadata": {},
   "outputs": [
    {
     "name": "stdout",
     "output_type": "stream",
     "text": [
      "I want to see Pakistan\n",
      "I used to stay in chennai\n"
     ]
    }
   ],
   "source": [
    "# Hybrid Inheritance\n",
    "\n",
    "\n",
    "class parent:\n",
    "  def tamilnadu(self):\n",
    "    print('I used to stay in chennai')\n",
    "\n",
    "class son1(parent):\n",
    "  def mumbai(self):\n",
    "    print('I am the Parent and I live in mumbai')\n",
    "\n",
    "class son2(parent):\n",
    "  def pakistan(self):\n",
    "    print('I want to see Pakistan')\n",
    "\n",
    "class son3(son1,son2):\n",
    "  def karnataka(self):\n",
    "    print('Bangalore is best city')\n",
    "\n",
    "\n",
    "obj = son2()\n",
    "obj.pakistan()\n",
    "obj.tamilnadu()"
   ]
  },
  {
   "cell_type": "code",
   "execution_count": null,
   "id": "91451b99",
   "metadata": {},
   "outputs": [],
   "source": []
  }
 ],
 "metadata": {
  "kernelspec": {
   "display_name": "Python 3 (ipykernel)",
   "language": "python",
   "name": "python3"
  },
  "language_info": {
   "codemirror_mode": {
    "name": "ipython",
    "version": 3
   },
   "file_extension": ".py",
   "mimetype": "text/x-python",
   "name": "python",
   "nbconvert_exporter": "python",
   "pygments_lexer": "ipython3",
   "version": "3.11.5"
  }
 },
 "nbformat": 4,
 "nbformat_minor": 5
}
